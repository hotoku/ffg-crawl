{
 "cells": [
  {
   "cell_type": "code",
   "execution_count": 25,
   "id": "777bc8c1-7fc1-4f47-ac29-7b44b768693a",
   "metadata": {
    "tags": []
   },
   "outputs": [],
   "source": [
    "import sqlite3\n",
    "import pandas as pd\n",
    "import re\n",
    "from unicodedata import normalidef extract_text(target_dir: str) -> pd.DataFrame:\n",
    "    files: Dict[DirName, list[FilePath]] = {}\n",
    "    files[target_dir] = glob(f\"{target_dir}/**.pdf\")\n",
    "\n",
    "    folder = []\n",
    "    doc_name = []\n",
    "    page_num = []\n",
    "    text = []\n",
    "\n",
    "    for k, v in files.items():\n",
    "        for f in v:\n",
    "            with open(f, \"rb\") as input:\n",
    "                try:\n",
    "                    reader = PdfFileReader(input)\n",
    "                    print(f\"{f} has　{reader.getNumPages()}　pages\")\n",
    "                    for i in range(reader.getNumPages()):\n",
    "                        folder.append(k.split('/')[-1])\n",
    "                        doc_name.append(f.split('/')[-1])\n",
    "                        page_num.append(i+1)\n",
    "                        page = reader.getPage(i)\n",
    "                        text.append(page.extractText())\n",
    "                except Exception as e:\n",
    "                    print(f\"failed: {f}\")\n",
    "                    with open(ERR_FILE, \"a\") as er:\n",
    "                        er.write(f\"{f}: {e}\\n\")\n",
    "                    text.append(\"\")\n",
    "\n",
    "    df = pd.DataFrame(\n",
    "        {'folder_name': folder, 'file_name': doc_name, 'page': page_num, 'text': text})\n",
    "    return dfze"
   ]
  },
  {
   "cell_type": "code",
   "execution_count": 4,
   "id": "a874bec9-cc6a-494f-8194-9b58e7d28fe7",
   "metadata": {
    "tags": []
   },
   "outputs": [],
   "source": [
    "def db_con() -> sqlite3.Connection:\n",
    "    path = \"../ffgcrawl/db.sqlite\"\n",
    "    con: sqlite3.Connection = sqlite3.connect(path)\n",
    "    con.row_factory = sqlite3.Row\n",
    "    return con"
   ]
  },
  {
   "cell_type": "code",
   "execution_count": 9,
   "id": "3742d520-5d33-464e-9be6-f30a95636cc7",
   "metadata": {
    "tags": []
   },
   "outputs": [],
   "source": [
    "def query(sql: str) -> pd.DataFrame:\n",
    "    return pd.read_sql(sql, db_con())"
   ]
  },
  {
   "cell_type": "code",
   "execution_count": 13,
   "id": "f12225a6-05ac-4078-a9cd-09808c62bb55",
   "metadata": {
    "tags": []
   },
   "outputs": [],
   "source": [
    "texts = query(\"select * from texts\")"
   ]
  },
  {
   "cell_type": "code",
   "execution_count": 17,
   "id": "72b74838-6812-484f-92f8-662658c3e258",
   "metadata": {
    "tags": []
   },
   "outputs": [],
   "source": [
    "t = texts.content[0]"
   ]
  },
  {
   "cell_type": "code",
   "execution_count": 38,
   "id": "9fe3c353-ca8a-4602-9e22-11bdbe3f5b29",
   "metadata": {
    "tags": []
   },
   "outputs": [],
   "source": [
    "def clean_text(t: str) -> str:\n",
    "    return normalize(\"NFKD\", re.sub(r\"\\s+\", \"\", t))"
   ]
  },
  {
   "cell_type": "code",
   "execution_count": 39,
   "id": "3574d71b-3ae9-4d37-9063-9218c74cce3d",
   "metadata": {
    "tags": []
   },
   "outputs": [],
   "source": [
    "contents = texts.content.map(clean_text)"
   ]
  },
  {
   "cell_type": "code",
   "execution_count": 40,
   "id": "e805f02b-c003-4941-bf0e-b98d1fdfe92b",
   "metadata": {
    "tags": []
   },
   "outputs": [],
   "source": [
    "with open(\"texts.txt\", \"w\") as fp:\n",
    "    for c in contents:\n",
    "        fp.write(c + \"\\n\")\n",
    "        fp.write(\"===========\\n\")"
   ]
  }
 ],
 "metadata": {
  "kernelspec": {
   "display_name": "Python 3 (ipykernel)",
   "language": "python",
   "name": "python3"
  },
  "language_info": {
   "codemirror_mode": {
    "name": "ipython",
    "version": 3
   },
   "file_extension": ".py",
   "mimetype": "text/x-python",
   "name": "python",
   "nbconvert_exporter": "python",
   "pygments_lexer": "ipython3",
   "version": "3.11.2"
  }
 },
 "nbformat": 4,
 "nbformat_minor": 5
}
