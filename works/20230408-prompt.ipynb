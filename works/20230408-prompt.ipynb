{
 "cells": [
  {
   "cell_type": "code",
   "execution_count": 15,
   "id": "bec80ee0-2972-4291-93b1-183413a557d0",
   "metadata": {
    "tags": []
   },
   "outputs": [],
   "source": [
    "import sqlite3\n",
    "import pandas as pd\n",
    "import MeCab\n",
    "import ipadic\n",
    "import re\n",
    "\n"
   ]
  },
  {
   "cell_type": "code",
   "execution_count": 10,
   "id": "2b5b1237-fe99-430d-8540-22d91bd7f4cb",
   "metadata": {
    "tags": []
   },
   "outputs": [],
   "source": [
    "_DB_PATH = \"../ffgcrawl/db.sqlite\"\n",
    "_TAGGER = MeCab.Tagger(ipadic.MECAB_ARGS)"
   ]
  },
  {
   "cell_type": "code",
   "execution_count": 11,
   "id": "b8577ac4-1e08-49dd-9e8c-a4045e8d2274",
   "metadata": {
    "tags": []
   },
   "outputs": [],
   "source": [
    "def db_con() -> sqlite3.Connection:\n",
    "    con: sqlite3.Connection = sqlite3.connect(_DB_PATH)\n",
    "    con.row_factory = sqlite3.Row\n",
    "    return con\n",
    "\n",
    "\n",
    "def query(sql: str) -> pd.DataFrame:\n",
    "    return pd.read_sql(sql, db_con())"
   ]
  },
  {
   "cell_type": "code",
   "execution_count": 12,
   "id": "4195eba2-05a9-4669-a38f-6d918408a3fd",
   "metadata": {
    "tags": []
   },
   "outputs": [],
   "source": [
    "question = \"ふくおかフィナンシャルグループのマネーサービスについて教えて下さい\""
   ]
  },
  {
   "cell_type": "code",
   "execution_count": 16,
   "id": "f74cce09-5dd1-4abe-9d6f-f91cc2fcf05b",
   "metadata": {
    "tags": []
   },
   "outputs": [],
   "source": [
    "def extract_keywords(s: str) -> list[str]:\n",
    "    words = _TAGGER.parse(s).split(\"\\n\")\n",
    "    # 最後の2個はEOSと空文字なので削除\n",
    "    infos = list(map(lambda s: re.split(r\"[\\t,]\", s), words))[:-2]\n",
    "    ret: list[str] = []\n",
    "    for info in infos:\n",
    "        if info[1] == \"名詞\" and info[2] in (\"一般\", \"固有名詞\"):\n",
    "            ret.append(info[7])\n",
    "    return ret"
   ]
  },
  {
   "cell_type": "code",
   "execution_count": 17,
   "id": "95903d06-db5a-4e94-9b62-0b492cef5b96",
   "metadata": {
    "tags": []
   },
   "outputs": [],
   "source": [
    "q_kw = extract_keywords(question)"
   ]
  },
  {
   "cell_type": "code",
   "execution_count": 20,
   "id": "650307d7-1488-40fe-b038-78e61979f0f9",
   "metadata": {
    "tags": []
   },
   "outputs": [
    {
     "data": {
      "text/plain": [
       "['ふくおか\\t名詞,固有名詞,人名,姓,*,*,ふくおか,フクオカ,フクオカ',\n",
       " 'フィナンシャルグループ\\t名詞,一般,*,*,*,*,*',\n",
       " 'の\\t助詞,連体化,*,*,*,*,の,ノ,ノ',\n",
       " 'マネー\\t名詞,一般,*,*,*,*,マネー,マネー,マネー',\n",
       " 'サービス\\t名詞,サ変接続,*,*,*,*,サービス,サービス,サービス',\n",
       " 'について\\t助詞,格助詞,連語,*,*,*,について,ニツイテ,ニツイテ',\n",
       " '教え\\t動詞,自立,*,*,一段,連用形,教える,オシエ,オシエ',\n",
       " 'て\\t助詞,接続助詞,*,*,*,*,て,テ,テ',\n",
       " '下さい\\t動詞,非自立,*,*,五段・ラ行特殊,命令ｉ,下さる,クダサイ,クダサイ',\n",
       " 'EOS',\n",
       " '']"
      ]
     },
     "execution_count": 20,
     "metadata": {},
     "output_type": "execute_result"
    }
   ],
   "source": [
    "_TAGGER.parse(question).split(\"\\n\")"
   ]
  },
  {
   "cell_type": "code",
   "execution_count": 18,
   "id": "316d2603-19aa-4adb-a83f-f2c63be94571",
   "metadata": {
    "tags": []
   },
   "outputs": [
    {
     "data": {
      "text/plain": [
       "['ふくおか', '*', 'マネー']"
      ]
     },
     "execution_count": 18,
     "metadata": {},
     "output_type": "execute_result"
    }
   ],
   "source": [
    "q_kw"
   ]
  }
 ],
 "metadata": {
  "kernelspec": {
   "display_name": "Python 3 (ipykernel)",
   "language": "python",
   "name": "python3"
  },
  "language_info": {
   "codemirror_mode": {
    "name": "ipython",
    "version": 3
   },
   "file_extension": ".py",
   "mimetype": "text/x-python",
   "name": "python",
   "nbconvert_exporter": "python",
   "pygments_lexer": "ipython3",
   "version": "3.10.9"
  }
 },
 "nbformat": 4,
 "nbformat_minor": 5
}
