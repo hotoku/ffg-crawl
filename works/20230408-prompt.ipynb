{
 "cells": [
  {
   "cell_type": "code",
   "execution_count": 1,
   "id": "bec80ee0-2972-4291-93b1-183413a557d0",
   "metadata": {
    "tags": []
   },
   "outputs": [],
   "source": [
    "import sqlite3\n",
    "import pandas as pd\n",
    "import MeCab\n",
    "import ipadic\n",
    "import re\n",
    "import sys\n",
    "sys.path.append(\"../chat\")\n",
    "import openai\n",
    "import os"
   ]
  },
  {
   "cell_type": "code",
   "execution_count": 2,
   "id": "c1ff52bb-9523-496c-8ec2-c4bf01053c9e",
   "metadata": {
    "tags": []
   },
   "outputs": [],
   "source": [
    "import chat\n",
    "from chat.db import query\n",
    "from chat.entry_points.load_keywords import condition\n",
    "from chat.chunk import morphological_analysis"
   ]
  },
  {
   "cell_type": "code",
   "execution_count": 3,
   "id": "36875ab2-a34b-4c8c-9fc6-9f51ec5323ac",
   "metadata": {
    "tags": []
   },
   "outputs": [],
   "source": [
    "def question2keywords(s: str) -> list[str]:\n",
    "    ret = [\n",
    "        w.word for w in \n",
    "        morphological_analysis(s)\n",
    "        if condition(w.word, repr(w.attributes))\n",
    "    ]    \n",
    "    return ret"
   ]
  },
  {
   "cell_type": "code",
   "execution_count": 4,
   "id": "2a8325b3-5c09-4823-9581-06f910b79b7c",
   "metadata": {
    "tags": []
   },
   "outputs": [],
   "source": [
    "def keywords2simirality(ws: list[str]) -> pd.DataFrame:\n",
    "    words = \",\".join(map(lambda w: f\"'{w}'\", ws))\n",
    "    sql = f\"\"\"\n",
    "    with temp1 as (\n",
    "        select\n",
    "          *\n",
    "        from\n",
    "          tfidfs\n",
    "        where\n",
    "          word in ({words})\n",
    "    )\n",
    "    select\n",
    "      chunk_id,\n",
    "      sum(tfidf) as similarity\n",
    "    from\n",
    "      temp1\n",
    "    group by\n",
    "      chunk_id\n",
    "    \"\"\"\n",
    "    return query(sql).sort_values(\"similarity\", ascending=False)"
   ]
  },
  {
   "cell_type": "code",
   "execution_count": 5,
   "id": "f04b4d9a-89bd-4bbc-825f-d95e12e189cf",
   "metadata": {
    "tags": []
   },
   "outputs": [],
   "source": [
    "def load_content(ids: list[int]) -> list[str]:\n",
    "    sql = f\"\"\"\n",
    "    select\n",
    "      content\n",
    "    from\n",
    "      chunks\n",
    "    where\n",
    "      id in ({\",\".join(map(str, ids))})\n",
    "    \"\"\"\n",
    "    df = query(sql)\n",
    "    return list(df[\"content\"])"
   ]
  },
  {
   "cell_type": "code",
   "execution_count": 6,
   "id": "0cde23c3-4cbc-4808-a526-3683b7695977",
   "metadata": {
    "tags": []
   },
   "outputs": [],
   "source": [
    "def make_prompt(question: str) -> str:\n",
    "    kws = question2keywords(question)\n",
    "    sim = keywords2simirality(kws)\n",
    "    context = \"\\n\".join(load_content(list(sim.head(5)[\"chunk_id\"])))\n",
    "    template = f\"\"\"\n",
    "以下に、日本の金融機関に関する説明文があります。また、説明文に続いて、質問文があります。この説明文の情報から質問文に答えてください。\n",
    "説明文\n",
    "-----------\n",
    "{context}\n",
    "-----------\n",
    "質問文\n",
    "-----------\n",
    "{question}\n",
    "    \"\"\"\n",
    "    return template"
   ]
  },
  {
   "cell_type": "code",
   "execution_count": 7,
   "id": "2cb35ffd-a048-4e44-ad0b-9ca1744ffe1c",
   "metadata": {
    "tags": []
   },
   "outputs": [],
   "source": [
    "def ask2chatgpt(question: str, print_answer=False):\n",
    "    openai.api_key = os.getenv(\"OPENAI_API_KEY\")\n",
    "    content = make_prompt(question)\n",
    "\n",
    "    completion = openai.ChatCompletion.create(\n",
    "      model=\"gpt-3.5-turbo\",\n",
    "      messages=[\n",
    "        {\"role\": \"user\", \"content\": content}\n",
    "      ]\n",
    "    )\n",
    "    \n",
    "    if print_answer:\n",
    "        print(completion.choices[0].message[\"content\"])\n",
    "    \n",
    "    return completion"
   ]
  },
  {
   "cell_type": "code",
   "execution_count": 9,
   "id": "a0024135-3434-4a81-85ea-b766f9f93002",
   "metadata": {
    "tags": []
   },
   "outputs": [
    {
     "name": "stderr",
     "output_type": "stream",
     "text": [
      "query: reading cache\n",
      "query: reading cache\n"
     ]
    },
    {
     "name": "stdout",
     "output_type": "stream",
     "text": [
      "回答：残念ながら、説明文にはふくおかフィナンシャルグループのマネーサービスについての情報は含まれていません。\n"
     ]
    }
   ],
   "source": [
    "_ = ask2chatgpt(\"ふくおかフィナンシャルグループのマネーサービスについて教えて下さい\", True)"
   ]
  },
  {
   "cell_type": "code",
   "execution_count": 10,
   "id": "b16b39ad-c6b1-435f-8349-504218fccbd2",
   "metadata": {
    "tags": []
   },
   "outputs": [
    {
     "name": "stderr",
     "output_type": "stream",
     "text": [
      "query: reading cache\n",
      "query: reading cache\n"
     ]
    },
    {
     "name": "stdout",
     "output_type": "stream",
     "text": [
      "説明文にはふくおかフィナンシャルグループのアプリに関する情報が含まれていないため、回答できません。申し訳ありません。\n"
     ]
    }
   ],
   "source": [
    "_ = ask2chatgpt(\"ふくおかフィナンシャルグループのアプリについて教えて下さい\", True)"
   ]
  },
  {
   "cell_type": "code",
   "execution_count": null,
   "id": "7ad850cc-1d66-4b8f-b3ca-1c54f9c2d193",
   "metadata": {
    "tags": []
   },
   "outputs": [
    {
     "name": "stderr",
     "output_type": "stream",
     "text": [
      "query: reading cache\n",
      "query: reading cache\n"
     ]
    }
   ],
   "source": [
    "_ = ask2chatgpt(\"ふくおかフィナンシャルグループの中期経営計画を教えて下さい\", True)"
   ]
  },
  {
   "cell_type": "code",
   "execution_count": 122,
   "id": "eb5d73c2-8b68-4328-8324-741b609db1a4",
   "metadata": {
    "tags": []
   },
   "outputs": [
    {
     "name": "stdout",
     "output_type": "stream",
     "text": [
      "ふくおかフィナンシャルグループは、SDGsへの取組みの一環として、福岡銀行、熊本銀行、十八親和銀行で脱炭素応援私募債の取扱いを開始し、発行されたお客様から頂く収益の一部を、全国の被災した森林や開発跡地での森林再生活動を行う認定NPO法人環境リレーションズ研究所へ寄付する商品を提供しています。また、全国の地域金融機関との連携を加速させ、お客さまのサステナビリティ経営実現に向けた取り組みを支援していることが説明文から読み取れます。\n"
     ]
    }
   ],
   "source": [
    "_ = ask2chatgpt(\"ふくおかフィナンシャルグループのSDGsに関する取り組みについて教えて下さい\", True)"
   ]
  },
  {
   "cell_type": "code",
   "execution_count": 123,
   "id": "d5793d74-e172-4dc5-be2f-e733b00303ce",
   "metadata": {
    "tags": []
   },
   "outputs": [
    {
     "name": "stdout",
     "output_type": "stream",
     "text": [
      "ふくおかフィナンシャルグループと横浜銀行はビジネス上のパートナーシップはありますが、何らかの所有関係や出資関係は示されていません。横浜銀行は、ふくおかフィナンシャルグループのグループ会社である株式会社サステナブルスケールと協力し、SDGsESGスコアリング評価サービス「SustainableScaleIndex」を横浜銀行の顧客向けに提供しています。\n"
     ]
    }
   ],
   "source": [
    "_ = ask2chatgpt(\"ふくおかフィナンシャルグループと横浜銀行は、どういう関係がありますか\", True)"
   ]
  }
 ],
 "metadata": {
  "kernelspec": {
   "display_name": "Python 3 (ipykernel)",
   "language": "python",
   "name": "python3"
  },
  "language_info": {
   "codemirror_mode": {
    "name": "ipython",
    "version": 3
   },
   "file_extension": ".py",
   "mimetype": "text/x-python",
   "name": "python",
   "nbconvert_exporter": "python",
   "pygments_lexer": "ipython3",
   "version": "3.10.9"
  }
 },
 "nbformat": 4,
 "nbformat_minor": 5
}
