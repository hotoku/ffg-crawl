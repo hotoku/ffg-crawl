{
 "cells": [
  {
   "cell_type": "code",
   "execution_count": 4,
   "id": "13b989cb-d692-4436-9521-742d85c4ec55",
   "metadata": {
    "tags": []
   },
   "outputs": [],
   "source": [
    "import sqlite3\n",
    "import pandas as pd"
   ]
  },
  {
   "cell_type": "code",
   "execution_count": 5,
   "id": "ce31cc1c-0712-4a36-8e6e-7a5e714a6aaa",
   "metadata": {
    "tags": []
   },
   "outputs": [],
   "source": [
    "_DB_PATH = \"./db.sqlite\""
   ]
  },
  {
   "cell_type": "code",
   "execution_count": 6,
   "id": "1ce14a9b-0f2f-4070-99a3-265696358a12",
   "metadata": {
    "tags": []
   },
   "outputs": [],
   "source": [
    "def db_con() -> sqlite3.Connection:\n",
    "    con: sqlite3.Connection = sqlite3.connect(_DB_PATH)\n",
    "    con.row_factory = sqlite3.Row\n",
    "    return con\n",
    "\n",
    "\n",
    "def query(sql: str) -> pd.DataFrame:\n",
    "    return pd.read_sql(sql, db_con())"
   ]
  },
  {
   "cell_type": "code",
   "execution_count": 8,
   "id": "b55d2f40-fb22-42d9-868f-8ac73301ea69",
   "metadata": {
    "tags": []
   },
   "outputs": [
    {
     "data": {
      "text/html": [
       "<div>\n",
       "<style scoped>\n",
       "    .dataframe tbody tr th:only-of-type {\n",
       "        vertical-align: middle;\n",
       "    }\n",
       "\n",
       "    .dataframe tbody tr th {\n",
       "        vertical-align: top;\n",
       "    }\n",
       "\n",
       "    .dataframe thead th {\n",
       "        text-align: right;\n",
       "    }\n",
       "</style>\n",
       "<table border=\"1\" class=\"dataframe\">\n",
       "  <thead>\n",
       "    <tr style=\"text-align: right;\">\n",
       "      <th></th>\n",
       "      <th>id</th>\n",
       "      <th>chunk_id</th>\n",
       "      <th>word</th>\n",
       "      <th>count</th>\n",
       "    </tr>\n",
       "  </thead>\n",
       "  <tbody>\n",
       "    <tr>\n",
       "      <th>0</th>\n",
       "      <td>1</td>\n",
       "      <td>1</td>\n",
       "      <td>*</td>\n",
       "      <td>12</td>\n",
       "    </tr>\n",
       "    <tr>\n",
       "      <th>1</th>\n",
       "      <td>2</td>\n",
       "      <td>1</td>\n",
       "      <td>福岡</td>\n",
       "      <td>1</td>\n",
       "    </tr>\n",
       "    <tr>\n",
       "      <th>2</th>\n",
       "      <td>3</td>\n",
       "      <td>1</td>\n",
       "      <td>中央</td>\n",
       "      <td>1</td>\n",
       "    </tr>\n",
       "  </tbody>\n",
       "</table>\n",
       "</div>"
      ],
      "text/plain": [
       "   id  chunk_id word  count\n",
       "0   1         1    *     12\n",
       "1   2         1   福岡      1\n",
       "2   3         1   中央      1"
      ]
     },
     "execution_count": 8,
     "metadata": {},
     "output_type": "execute_result"
    }
   ],
   "source": [
    "query(\"select * from keywords limit 3\")"
   ]
  },
  {
   "cell_type": "code",
   "execution_count": 22,
   "id": "2ade8450-f492-429b-8f0b-5be8a7ace13a",
   "metadata": {
    "tags": []
   },
   "outputs": [
    {
     "ename": "DatabaseError",
     "evalue": "Execution failed on sql 'select ln(1.0)': no such function: ln",
     "output_type": "error",
     "traceback": [
      "\u001b[0;31m---------------------------------------------------------------------------\u001b[0m",
      "\u001b[0;31mOperationalError\u001b[0m                          Traceback (most recent call last)",
      "File \u001b[0;32m~/Library/Caches/pypoetry/virtualenvs/works-nrQr0hCF-py3.10/lib/python3.10/site-packages/pandas/io/sql.py:2200\u001b[0m, in \u001b[0;36mSQLiteDatabase.execute\u001b[0;34m(self, sql, params)\u001b[0m\n\u001b[1;32m   2199\u001b[0m \u001b[38;5;28;01mtry\u001b[39;00m:\n\u001b[0;32m-> 2200\u001b[0m     \u001b[43mcur\u001b[49m\u001b[38;5;241;43m.\u001b[39;49m\u001b[43mexecute\u001b[49m\u001b[43m(\u001b[49m\u001b[43msql\u001b[49m\u001b[43m,\u001b[49m\u001b[43m \u001b[49m\u001b[38;5;241;43m*\u001b[39;49m\u001b[43margs\u001b[49m\u001b[43m)\u001b[49m\n\u001b[1;32m   2201\u001b[0m     \u001b[38;5;28;01mreturn\u001b[39;00m cur\n",
      "\u001b[0;31mOperationalError\u001b[0m: no such function: ln",
      "\nThe above exception was the direct cause of the following exception:\n",
      "\u001b[0;31mDatabaseError\u001b[0m                             Traceback (most recent call last)",
      "Cell \u001b[0;32mIn[22], line 1\u001b[0m\n\u001b[0;32m----> 1\u001b[0m \u001b[43mquery\u001b[49m\u001b[43m(\u001b[49m\u001b[38;5;124;43m\"\u001b[39;49m\u001b[38;5;124;43mselect ln(1.0)\u001b[39;49m\u001b[38;5;124;43m\"\u001b[39;49m\u001b[43m)\u001b[49m\n",
      "Cell \u001b[0;32mIn[6], line 8\u001b[0m, in \u001b[0;36mquery\u001b[0;34m(sql)\u001b[0m\n\u001b[1;32m      7\u001b[0m \u001b[38;5;28;01mdef\u001b[39;00m \u001b[38;5;21mquery\u001b[39m(sql: \u001b[38;5;28mstr\u001b[39m) \u001b[38;5;241m-\u001b[39m\u001b[38;5;241m>\u001b[39m pd\u001b[38;5;241m.\u001b[39mDataFrame:\n\u001b[0;32m----> 8\u001b[0m     \u001b[38;5;28;01mreturn\u001b[39;00m \u001b[43mpd\u001b[49m\u001b[38;5;241;43m.\u001b[39;49m\u001b[43mread_sql\u001b[49m\u001b[43m(\u001b[49m\u001b[43msql\u001b[49m\u001b[43m,\u001b[49m\u001b[43m \u001b[49m\u001b[43mdb_con\u001b[49m\u001b[43m(\u001b[49m\u001b[43m)\u001b[49m\u001b[43m)\u001b[49m\n",
      "File \u001b[0;32m~/Library/Caches/pypoetry/virtualenvs/works-nrQr0hCF-py3.10/lib/python3.10/site-packages/pandas/io/sql.py:633\u001b[0m, in \u001b[0;36mread_sql\u001b[0;34m(sql, con, index_col, coerce_float, params, parse_dates, columns, chunksize, dtype_backend, dtype)\u001b[0m\n\u001b[1;32m    631\u001b[0m \u001b[38;5;28;01mwith\u001b[39;00m pandasSQL_builder(con) \u001b[38;5;28;01mas\u001b[39;00m pandas_sql:\n\u001b[1;32m    632\u001b[0m     \u001b[38;5;28;01mif\u001b[39;00m \u001b[38;5;28misinstance\u001b[39m(pandas_sql, SQLiteDatabase):\n\u001b[0;32m--> 633\u001b[0m         \u001b[38;5;28;01mreturn\u001b[39;00m \u001b[43mpandas_sql\u001b[49m\u001b[38;5;241;43m.\u001b[39;49m\u001b[43mread_query\u001b[49m\u001b[43m(\u001b[49m\n\u001b[1;32m    634\u001b[0m \u001b[43m            \u001b[49m\u001b[43msql\u001b[49m\u001b[43m,\u001b[49m\n\u001b[1;32m    635\u001b[0m \u001b[43m            \u001b[49m\u001b[43mindex_col\u001b[49m\u001b[38;5;241;43m=\u001b[39;49m\u001b[43mindex_col\u001b[49m\u001b[43m,\u001b[49m\n\u001b[1;32m    636\u001b[0m \u001b[43m            \u001b[49m\u001b[43mparams\u001b[49m\u001b[38;5;241;43m=\u001b[39;49m\u001b[43mparams\u001b[49m\u001b[43m,\u001b[49m\n\u001b[1;32m    637\u001b[0m \u001b[43m            \u001b[49m\u001b[43mcoerce_float\u001b[49m\u001b[38;5;241;43m=\u001b[39;49m\u001b[43mcoerce_float\u001b[49m\u001b[43m,\u001b[49m\n\u001b[1;32m    638\u001b[0m \u001b[43m            \u001b[49m\u001b[43mparse_dates\u001b[49m\u001b[38;5;241;43m=\u001b[39;49m\u001b[43mparse_dates\u001b[49m\u001b[43m,\u001b[49m\n\u001b[1;32m    639\u001b[0m \u001b[43m            \u001b[49m\u001b[43mchunksize\u001b[49m\u001b[38;5;241;43m=\u001b[39;49m\u001b[43mchunksize\u001b[49m\u001b[43m,\u001b[49m\n\u001b[1;32m    640\u001b[0m \u001b[43m            \u001b[49m\u001b[43mdtype_backend\u001b[49m\u001b[38;5;241;43m=\u001b[39;49m\u001b[43mdtype_backend\u001b[49m\u001b[43m,\u001b[49m\u001b[43m  \u001b[49m\u001b[38;5;66;43;03m# type: ignore[arg-type]\u001b[39;49;00m\n\u001b[1;32m    641\u001b[0m \u001b[43m            \u001b[49m\u001b[43mdtype\u001b[49m\u001b[38;5;241;43m=\u001b[39;49m\u001b[43mdtype\u001b[49m\u001b[43m,\u001b[49m\n\u001b[1;32m    642\u001b[0m \u001b[43m        \u001b[49m\u001b[43m)\u001b[49m\n\u001b[1;32m    644\u001b[0m     \u001b[38;5;28;01mtry\u001b[39;00m:\n\u001b[1;32m    645\u001b[0m         _is_table_name \u001b[38;5;241m=\u001b[39m pandas_sql\u001b[38;5;241m.\u001b[39mhas_table(sql)\n",
      "File \u001b[0;32m~/Library/Caches/pypoetry/virtualenvs/works-nrQr0hCF-py3.10/lib/python3.10/site-packages/pandas/io/sql.py:2264\u001b[0m, in \u001b[0;36mSQLiteDatabase.read_query\u001b[0;34m(self, sql, index_col, coerce_float, parse_dates, params, chunksize, dtype, dtype_backend)\u001b[0m\n\u001b[1;32m   2253\u001b[0m \u001b[38;5;28;01mdef\u001b[39;00m \u001b[38;5;21mread_query\u001b[39m(\n\u001b[1;32m   2254\u001b[0m     \u001b[38;5;28mself\u001b[39m,\n\u001b[1;32m   2255\u001b[0m     sql,\n\u001b[0;32m   (...)\u001b[0m\n\u001b[1;32m   2262\u001b[0m     dtype_backend: DtypeBackend \u001b[38;5;241m|\u001b[39m Literal[\u001b[38;5;124m\"\u001b[39m\u001b[38;5;124mnumpy\u001b[39m\u001b[38;5;124m\"\u001b[39m] \u001b[38;5;241m=\u001b[39m \u001b[38;5;124m\"\u001b[39m\u001b[38;5;124mnumpy\u001b[39m\u001b[38;5;124m\"\u001b[39m,\n\u001b[1;32m   2263\u001b[0m ) \u001b[38;5;241m-\u001b[39m\u001b[38;5;241m>\u001b[39m DataFrame \u001b[38;5;241m|\u001b[39m Iterator[DataFrame]:\n\u001b[0;32m-> 2264\u001b[0m     cursor \u001b[38;5;241m=\u001b[39m \u001b[38;5;28;43mself\u001b[39;49m\u001b[38;5;241;43m.\u001b[39;49m\u001b[43mexecute\u001b[49m\u001b[43m(\u001b[49m\u001b[43msql\u001b[49m\u001b[43m,\u001b[49m\u001b[43m \u001b[49m\u001b[43mparams\u001b[49m\u001b[43m)\u001b[49m\n\u001b[1;32m   2265\u001b[0m     columns \u001b[38;5;241m=\u001b[39m [col_desc[\u001b[38;5;241m0\u001b[39m] \u001b[38;5;28;01mfor\u001b[39;00m col_desc \u001b[38;5;129;01min\u001b[39;00m cursor\u001b[38;5;241m.\u001b[39mdescription]\n\u001b[1;32m   2267\u001b[0m     \u001b[38;5;28;01mif\u001b[39;00m chunksize \u001b[38;5;129;01mis\u001b[39;00m \u001b[38;5;129;01mnot\u001b[39;00m \u001b[38;5;28;01mNone\u001b[39;00m:\n",
      "File \u001b[0;32m~/Library/Caches/pypoetry/virtualenvs/works-nrQr0hCF-py3.10/lib/python3.10/site-packages/pandas/io/sql.py:2212\u001b[0m, in \u001b[0;36mSQLiteDatabase.execute\u001b[0;34m(self, sql, params)\u001b[0m\n\u001b[1;32m   2209\u001b[0m     \u001b[38;5;28;01mraise\u001b[39;00m ex \u001b[38;5;28;01mfrom\u001b[39;00m \u001b[38;5;21;01minner_exc\u001b[39;00m\n\u001b[1;32m   2211\u001b[0m ex \u001b[38;5;241m=\u001b[39m DatabaseError(\u001b[38;5;124mf\u001b[39m\u001b[38;5;124m\"\u001b[39m\u001b[38;5;124mExecution failed on sql \u001b[39m\u001b[38;5;124m'\u001b[39m\u001b[38;5;132;01m{\u001b[39;00msql\u001b[38;5;132;01m}\u001b[39;00m\u001b[38;5;124m'\u001b[39m\u001b[38;5;124m: \u001b[39m\u001b[38;5;132;01m{\u001b[39;00mexc\u001b[38;5;132;01m}\u001b[39;00m\u001b[38;5;124m\"\u001b[39m)\n\u001b[0;32m-> 2212\u001b[0m \u001b[38;5;28;01mraise\u001b[39;00m ex \u001b[38;5;28;01mfrom\u001b[39;00m \u001b[38;5;21;01mexc\u001b[39;00m\n",
      "\u001b[0;31mDatabaseError\u001b[0m: Execution failed on sql 'select ln(1.0)': no such function: ln"
     ]
    }
   ],
   "source": [
    "query(\"select ln(1.0)\")"
   ]
  },
  {
   "cell_type": "markdown",
   "id": "e35190d6-a6c5-4b10-863a-31771eb03240",
   "metadata": {},
   "source": [
    "log関数が使えなくて積んでいる。tf, dfだけ求めてpythonでやるのが良いかも"
   ]
  },
  {
   "cell_type": "code",
   "execution_count": 18,
   "id": "1c31e65c-231e-4766-9896-93c702708a19",
   "metadata": {
    "tags": []
   },
   "outputs": [
    {
     "ename": "DatabaseError",
     "evalue": "Execution failed on sql '\nwith document_length as (\n    select\n      chunk_id,\n      sum(count) as length\n    from\n      keywords\n    group by\n      chunk_id\n), term_frequency as (\n    select\n      k.chunk_id,\n      k.word,\n      k.count,\n      dl.length,\n      (1.0 * k.count) / dl.length as term_frequency\n    from\n      keywords k\n        inner join\n      document_length dl\n        on k.chunk_id = dl.chunk_id\n), document_count as (\n    select\n      word,\n      count(distinct chunk_id) as document_count\n    from\n      keywords\n    group by\n      word      \n), inverse_document_frequency as (\n    select\n      word,\n      document_count,\n      -log(\n        1.0 * document_count / (\n          select count(1) from chunks\n        )\n      ) as inverse_document_frequency\n    from\n      document_count\n)\nselect\n  *\nfrom\n  inverse_document_frequency\n': no such function: log",
     "output_type": "error",
     "traceback": [
      "\u001b[0;31m---------------------------------------------------------------------------\u001b[0m",
      "\u001b[0;31mOperationalError\u001b[0m                          Traceback (most recent call last)",
      "File \u001b[0;32m~/Library/Caches/pypoetry/virtualenvs/works-nrQr0hCF-py3.10/lib/python3.10/site-packages/pandas/io/sql.py:2200\u001b[0m, in \u001b[0;36mSQLiteDatabase.execute\u001b[0;34m(self, sql, params)\u001b[0m\n\u001b[1;32m   2199\u001b[0m \u001b[38;5;28;01mtry\u001b[39;00m:\n\u001b[0;32m-> 2200\u001b[0m     \u001b[43mcur\u001b[49m\u001b[38;5;241;43m.\u001b[39;49m\u001b[43mexecute\u001b[49m\u001b[43m(\u001b[49m\u001b[43msql\u001b[49m\u001b[43m,\u001b[49m\u001b[43m \u001b[49m\u001b[38;5;241;43m*\u001b[39;49m\u001b[43margs\u001b[49m\u001b[43m)\u001b[49m\n\u001b[1;32m   2201\u001b[0m     \u001b[38;5;28;01mreturn\u001b[39;00m cur\n",
      "\u001b[0;31mOperationalError\u001b[0m: no such function: log",
      "\nThe above exception was the direct cause of the following exception:\n",
      "\u001b[0;31mDatabaseError\u001b[0m                             Traceback (most recent call last)",
      "Cell \u001b[0;32mIn[18], line 1\u001b[0m\n\u001b[0;32m----> 1\u001b[0m \u001b[43mquery\u001b[49m\u001b[43m(\u001b[49m\u001b[38;5;124;43m\"\"\"\u001b[39;49m\n\u001b[1;32m      2\u001b[0m \u001b[38;5;124;43mwith document_length as (\u001b[39;49m\n\u001b[1;32m      3\u001b[0m \u001b[38;5;124;43m    select\u001b[39;49m\n\u001b[1;32m      4\u001b[0m \u001b[38;5;124;43m      chunk_id,\u001b[39;49m\n\u001b[1;32m      5\u001b[0m \u001b[38;5;124;43m      sum(count) as length\u001b[39;49m\n\u001b[1;32m      6\u001b[0m \u001b[38;5;124;43m    from\u001b[39;49m\n\u001b[1;32m      7\u001b[0m \u001b[38;5;124;43m      keywords\u001b[39;49m\n\u001b[1;32m      8\u001b[0m \u001b[38;5;124;43m    group by\u001b[39;49m\n\u001b[1;32m      9\u001b[0m \u001b[38;5;124;43m      chunk_id\u001b[39;49m\n\u001b[1;32m     10\u001b[0m \u001b[38;5;124;43m), term_frequency as (\u001b[39;49m\n\u001b[1;32m     11\u001b[0m \u001b[38;5;124;43m    select\u001b[39;49m\n\u001b[1;32m     12\u001b[0m \u001b[38;5;124;43m      k.chunk_id,\u001b[39;49m\n\u001b[1;32m     13\u001b[0m \u001b[38;5;124;43m      k.word,\u001b[39;49m\n\u001b[1;32m     14\u001b[0m \u001b[38;5;124;43m      k.count,\u001b[39;49m\n\u001b[1;32m     15\u001b[0m \u001b[38;5;124;43m      dl.length,\u001b[39;49m\n\u001b[1;32m     16\u001b[0m \u001b[38;5;124;43m      (1.0 * k.count) / dl.length as term_frequency\u001b[39;49m\n\u001b[1;32m     17\u001b[0m \u001b[38;5;124;43m    from\u001b[39;49m\n\u001b[1;32m     18\u001b[0m \u001b[38;5;124;43m      keywords k\u001b[39;49m\n\u001b[1;32m     19\u001b[0m \u001b[38;5;124;43m        inner join\u001b[39;49m\n\u001b[1;32m     20\u001b[0m \u001b[38;5;124;43m      document_length dl\u001b[39;49m\n\u001b[1;32m     21\u001b[0m \u001b[38;5;124;43m        on k.chunk_id = dl.chunk_id\u001b[39;49m\n\u001b[1;32m     22\u001b[0m \u001b[38;5;124;43m), document_count as (\u001b[39;49m\n\u001b[1;32m     23\u001b[0m \u001b[38;5;124;43m    select\u001b[39;49m\n\u001b[1;32m     24\u001b[0m \u001b[38;5;124;43m      word,\u001b[39;49m\n\u001b[1;32m     25\u001b[0m \u001b[38;5;124;43m      count(distinct chunk_id) as document_count\u001b[39;49m\n\u001b[1;32m     26\u001b[0m \u001b[38;5;124;43m    from\u001b[39;49m\n\u001b[1;32m     27\u001b[0m \u001b[38;5;124;43m      keywords\u001b[39;49m\n\u001b[1;32m     28\u001b[0m \u001b[38;5;124;43m    group by\u001b[39;49m\n\u001b[1;32m     29\u001b[0m \u001b[38;5;124;43m      word      \u001b[39;49m\n\u001b[1;32m     30\u001b[0m \u001b[38;5;124;43m), inverse_document_frequency as (\u001b[39;49m\n\u001b[1;32m     31\u001b[0m \u001b[38;5;124;43m    select\u001b[39;49m\n\u001b[1;32m     32\u001b[0m \u001b[38;5;124;43m      word,\u001b[39;49m\n\u001b[1;32m     33\u001b[0m \u001b[38;5;124;43m      document_count,\u001b[39;49m\n\u001b[1;32m     34\u001b[0m \u001b[38;5;124;43m      -log(\u001b[39;49m\n\u001b[1;32m     35\u001b[0m \u001b[38;5;124;43m        1.0 * document_count / (\u001b[39;49m\n\u001b[1;32m     36\u001b[0m \u001b[38;5;124;43m          select count(1) from chunks\u001b[39;49m\n\u001b[1;32m     37\u001b[0m \u001b[38;5;124;43m        )\u001b[39;49m\n\u001b[1;32m     38\u001b[0m \u001b[38;5;124;43m      ) as inverse_document_frequency\u001b[39;49m\n\u001b[1;32m     39\u001b[0m \u001b[38;5;124;43m    from\u001b[39;49m\n\u001b[1;32m     40\u001b[0m \u001b[38;5;124;43m      document_count\u001b[39;49m\n\u001b[1;32m     41\u001b[0m \u001b[38;5;124;43m)\u001b[39;49m\n\u001b[1;32m     42\u001b[0m \u001b[38;5;124;43mselect\u001b[39;49m\n\u001b[1;32m     43\u001b[0m \u001b[38;5;124;43m  *\u001b[39;49m\n\u001b[1;32m     44\u001b[0m \u001b[38;5;124;43mfrom\u001b[39;49m\n\u001b[1;32m     45\u001b[0m \u001b[38;5;124;43m  inverse_document_frequency\u001b[39;49m\n\u001b[1;32m     46\u001b[0m \u001b[38;5;124;43m\"\"\"\u001b[39;49m\u001b[43m)\u001b[49m\n",
      "Cell \u001b[0;32mIn[6], line 8\u001b[0m, in \u001b[0;36mquery\u001b[0;34m(sql)\u001b[0m\n\u001b[1;32m      7\u001b[0m \u001b[38;5;28;01mdef\u001b[39;00m \u001b[38;5;21mquery\u001b[39m(sql: \u001b[38;5;28mstr\u001b[39m) \u001b[38;5;241m-\u001b[39m\u001b[38;5;241m>\u001b[39m pd\u001b[38;5;241m.\u001b[39mDataFrame:\n\u001b[0;32m----> 8\u001b[0m     \u001b[38;5;28;01mreturn\u001b[39;00m \u001b[43mpd\u001b[49m\u001b[38;5;241;43m.\u001b[39;49m\u001b[43mread_sql\u001b[49m\u001b[43m(\u001b[49m\u001b[43msql\u001b[49m\u001b[43m,\u001b[49m\u001b[43m \u001b[49m\u001b[43mdb_con\u001b[49m\u001b[43m(\u001b[49m\u001b[43m)\u001b[49m\u001b[43m)\u001b[49m\n",
      "File \u001b[0;32m~/Library/Caches/pypoetry/virtualenvs/works-nrQr0hCF-py3.10/lib/python3.10/site-packages/pandas/io/sql.py:633\u001b[0m, in \u001b[0;36mread_sql\u001b[0;34m(sql, con, index_col, coerce_float, params, parse_dates, columns, chunksize, dtype_backend, dtype)\u001b[0m\n\u001b[1;32m    631\u001b[0m \u001b[38;5;28;01mwith\u001b[39;00m pandasSQL_builder(con) \u001b[38;5;28;01mas\u001b[39;00m pandas_sql:\n\u001b[1;32m    632\u001b[0m     \u001b[38;5;28;01mif\u001b[39;00m \u001b[38;5;28misinstance\u001b[39m(pandas_sql, SQLiteDatabase):\n\u001b[0;32m--> 633\u001b[0m         \u001b[38;5;28;01mreturn\u001b[39;00m \u001b[43mpandas_sql\u001b[49m\u001b[38;5;241;43m.\u001b[39;49m\u001b[43mread_query\u001b[49m\u001b[43m(\u001b[49m\n\u001b[1;32m    634\u001b[0m \u001b[43m            \u001b[49m\u001b[43msql\u001b[49m\u001b[43m,\u001b[49m\n\u001b[1;32m    635\u001b[0m \u001b[43m            \u001b[49m\u001b[43mindex_col\u001b[49m\u001b[38;5;241;43m=\u001b[39;49m\u001b[43mindex_col\u001b[49m\u001b[43m,\u001b[49m\n\u001b[1;32m    636\u001b[0m \u001b[43m            \u001b[49m\u001b[43mparams\u001b[49m\u001b[38;5;241;43m=\u001b[39;49m\u001b[43mparams\u001b[49m\u001b[43m,\u001b[49m\n\u001b[1;32m    637\u001b[0m \u001b[43m            \u001b[49m\u001b[43mcoerce_float\u001b[49m\u001b[38;5;241;43m=\u001b[39;49m\u001b[43mcoerce_float\u001b[49m\u001b[43m,\u001b[49m\n\u001b[1;32m    638\u001b[0m \u001b[43m            \u001b[49m\u001b[43mparse_dates\u001b[49m\u001b[38;5;241;43m=\u001b[39;49m\u001b[43mparse_dates\u001b[49m\u001b[43m,\u001b[49m\n\u001b[1;32m    639\u001b[0m \u001b[43m            \u001b[49m\u001b[43mchunksize\u001b[49m\u001b[38;5;241;43m=\u001b[39;49m\u001b[43mchunksize\u001b[49m\u001b[43m,\u001b[49m\n\u001b[1;32m    640\u001b[0m \u001b[43m            \u001b[49m\u001b[43mdtype_backend\u001b[49m\u001b[38;5;241;43m=\u001b[39;49m\u001b[43mdtype_backend\u001b[49m\u001b[43m,\u001b[49m\u001b[43m  \u001b[49m\u001b[38;5;66;43;03m# type: ignore[arg-type]\u001b[39;49;00m\n\u001b[1;32m    641\u001b[0m \u001b[43m            \u001b[49m\u001b[43mdtype\u001b[49m\u001b[38;5;241;43m=\u001b[39;49m\u001b[43mdtype\u001b[49m\u001b[43m,\u001b[49m\n\u001b[1;32m    642\u001b[0m \u001b[43m        \u001b[49m\u001b[43m)\u001b[49m\n\u001b[1;32m    644\u001b[0m     \u001b[38;5;28;01mtry\u001b[39;00m:\n\u001b[1;32m    645\u001b[0m         _is_table_name \u001b[38;5;241m=\u001b[39m pandas_sql\u001b[38;5;241m.\u001b[39mhas_table(sql)\n",
      "File \u001b[0;32m~/Library/Caches/pypoetry/virtualenvs/works-nrQr0hCF-py3.10/lib/python3.10/site-packages/pandas/io/sql.py:2264\u001b[0m, in \u001b[0;36mSQLiteDatabase.read_query\u001b[0;34m(self, sql, index_col, coerce_float, parse_dates, params, chunksize, dtype, dtype_backend)\u001b[0m\n\u001b[1;32m   2253\u001b[0m \u001b[38;5;28;01mdef\u001b[39;00m \u001b[38;5;21mread_query\u001b[39m(\n\u001b[1;32m   2254\u001b[0m     \u001b[38;5;28mself\u001b[39m,\n\u001b[1;32m   2255\u001b[0m     sql,\n\u001b[0;32m   (...)\u001b[0m\n\u001b[1;32m   2262\u001b[0m     dtype_backend: DtypeBackend \u001b[38;5;241m|\u001b[39m Literal[\u001b[38;5;124m\"\u001b[39m\u001b[38;5;124mnumpy\u001b[39m\u001b[38;5;124m\"\u001b[39m] \u001b[38;5;241m=\u001b[39m \u001b[38;5;124m\"\u001b[39m\u001b[38;5;124mnumpy\u001b[39m\u001b[38;5;124m\"\u001b[39m,\n\u001b[1;32m   2263\u001b[0m ) \u001b[38;5;241m-\u001b[39m\u001b[38;5;241m>\u001b[39m DataFrame \u001b[38;5;241m|\u001b[39m Iterator[DataFrame]:\n\u001b[0;32m-> 2264\u001b[0m     cursor \u001b[38;5;241m=\u001b[39m \u001b[38;5;28;43mself\u001b[39;49m\u001b[38;5;241;43m.\u001b[39;49m\u001b[43mexecute\u001b[49m\u001b[43m(\u001b[49m\u001b[43msql\u001b[49m\u001b[43m,\u001b[49m\u001b[43m \u001b[49m\u001b[43mparams\u001b[49m\u001b[43m)\u001b[49m\n\u001b[1;32m   2265\u001b[0m     columns \u001b[38;5;241m=\u001b[39m [col_desc[\u001b[38;5;241m0\u001b[39m] \u001b[38;5;28;01mfor\u001b[39;00m col_desc \u001b[38;5;129;01min\u001b[39;00m cursor\u001b[38;5;241m.\u001b[39mdescription]\n\u001b[1;32m   2267\u001b[0m     \u001b[38;5;28;01mif\u001b[39;00m chunksize \u001b[38;5;129;01mis\u001b[39;00m \u001b[38;5;129;01mnot\u001b[39;00m \u001b[38;5;28;01mNone\u001b[39;00m:\n",
      "File \u001b[0;32m~/Library/Caches/pypoetry/virtualenvs/works-nrQr0hCF-py3.10/lib/python3.10/site-packages/pandas/io/sql.py:2212\u001b[0m, in \u001b[0;36mSQLiteDatabase.execute\u001b[0;34m(self, sql, params)\u001b[0m\n\u001b[1;32m   2209\u001b[0m     \u001b[38;5;28;01mraise\u001b[39;00m ex \u001b[38;5;28;01mfrom\u001b[39;00m \u001b[38;5;21;01minner_exc\u001b[39;00m\n\u001b[1;32m   2211\u001b[0m ex \u001b[38;5;241m=\u001b[39m DatabaseError(\u001b[38;5;124mf\u001b[39m\u001b[38;5;124m\"\u001b[39m\u001b[38;5;124mExecution failed on sql \u001b[39m\u001b[38;5;124m'\u001b[39m\u001b[38;5;132;01m{\u001b[39;00msql\u001b[38;5;132;01m}\u001b[39;00m\u001b[38;5;124m'\u001b[39m\u001b[38;5;124m: \u001b[39m\u001b[38;5;132;01m{\u001b[39;00mexc\u001b[38;5;132;01m}\u001b[39;00m\u001b[38;5;124m\"\u001b[39m)\n\u001b[0;32m-> 2212\u001b[0m \u001b[38;5;28;01mraise\u001b[39;00m ex \u001b[38;5;28;01mfrom\u001b[39;00m \u001b[38;5;21;01mexc\u001b[39;00m\n",
      "\u001b[0;31mDatabaseError\u001b[0m: Execution failed on sql '\nwith document_length as (\n    select\n      chunk_id,\n      sum(count) as length\n    from\n      keywords\n    group by\n      chunk_id\n), term_frequency as (\n    select\n      k.chunk_id,\n      k.word,\n      k.count,\n      dl.length,\n      (1.0 * k.count) / dl.length as term_frequency\n    from\n      keywords k\n        inner join\n      document_length dl\n        on k.chunk_id = dl.chunk_id\n), document_count as (\n    select\n      word,\n      count(distinct chunk_id) as document_count\n    from\n      keywords\n    group by\n      word      \n), inverse_document_frequency as (\n    select\n      word,\n      document_count,\n      -log(\n        1.0 * document_count / (\n          select count(1) from chunks\n        )\n      ) as inverse_document_frequency\n    from\n      document_count\n)\nselect\n  *\nfrom\n  inverse_document_frequency\n': no such function: log"
     ]
    }
   ],
   "source": [
    "query(\"\"\"\n",
    "with document_length as (\n",
    "    select\n",
    "      chunk_id,\n",
    "      sum(count) as length\n",
    "    from\n",
    "      keywords\n",
    "    group by\n",
    "      chunk_id\n",
    "), term_frequency as (\n",
    "    select\n",
    "      k.chunk_id,\n",
    "      k.word,\n",
    "      k.count,\n",
    "      dl.length,\n",
    "      (1.0 * k.count) / dl.length as term_frequency\n",
    "    from\n",
    "      keywords k\n",
    "        inner join\n",
    "      document_length dl\n",
    "        on k.chunk_id = dl.chunk_id\n",
    "), document_count as (\n",
    "    select\n",
    "      word,\n",
    "      count(distinct chunk_id) as document_count\n",
    "    from\n",
    "      keywords\n",
    "    group by\n",
    "      word      \n",
    "), inverse_document_frequency as (\n",
    "    select\n",
    "      word,\n",
    "      document_count,\n",
    "      -log(\n",
    "        1.0 * document_count / (\n",
    "          select count(1) from chunks\n",
    "        )\n",
    "      ) as inverse_document_frequency\n",
    "    from\n",
    "      document_count\n",
    ")\n",
    "select\n",
    "  *\n",
    "from\n",
    "  inverse_document_frequency\n",
    "\"\"\")"
   ]
  }
 ],
 "metadata": {
  "kernelspec": {
   "display_name": "Python 3 (ipykernel)",
   "language": "python",
   "name": "python3"
  },
  "language_info": {
   "codemirror_mode": {
    "name": "ipython",
    "version": 3
   },
   "file_extension": ".py",
   "mimetype": "text/x-python",
   "name": "python",
   "nbconvert_exporter": "python",
   "pygments_lexer": "ipython3",
   "version": "3.10.5"
  }
 },
 "nbformat": 4,
 "nbformat_minor": 5
}
