{
 "cells": [
  {
   "cell_type": "code",
   "execution_count": 1,
   "id": "7c35d8e7-e8ad-433a-80fd-3058be4c2e40",
   "metadata": {
    "tags": []
   },
   "outputs": [],
   "source": [
    "import sqlite3\n",
    "import pandas as pd\n",
    "import MeCab\n",
    "import ipadic\n",
    "import re\n",
    "import sys\n",
    "sys.path.append(\"../chat\")\n",
    "import openai\n",
    "import os"
   ]
  },
  {
   "cell_type": "code",
   "execution_count": 2,
   "id": "8e3f7990-052f-4398-9721-6d9e7c47a298",
   "metadata": {
    "tags": []
   },
   "outputs": [],
   "source": [
    "import chat\n",
    "from chat.db import query\n",
    "from chat.entry_points.load_keywords import condition\n",
    "from chat.chunk import morphological_analysis\n",
    "from chat.prompt import question2keywords, keywords2simirality, load_content"
   ]
  },
  {
   "cell_type": "code",
   "execution_count": 3,
   "id": "7a1abbe6-c62e-46f4-b905-cf41cc6aef2f",
   "metadata": {
    "tags": []
   },
   "outputs": [
    {
     "name": "stderr",
     "output_type": "stream",
     "text": [
      "query: reading cache\n"
     ]
    }
   ],
   "source": [
    "question = \"ふくおかフィナンシャルグループと横浜銀行は、どういう関係がありますか\"\n",
    "kws = question2keywords(question)\n",
    "sims = keywords2simirality(kws)"
   ]
  },
  {
   "cell_type": "code",
   "execution_count": 4,
   "id": "7d8276f7-9ef4-4b21-a572-3da1918379bf",
   "metadata": {
    "tags": []
   },
   "outputs": [
    {
     "name": "stderr",
     "output_type": "stream",
     "text": [
      "query: reading cache\n"
     ]
    },
    {
     "data": {
      "text/plain": [
       "['以上本件に関するご照会は下記までお願いいたします。ふくおかフィナンシャルグループ経営企画部財務Ｇ電話092-723-2502。',\n",
       " '以上本件に関するご照会は下記までお願いいたします。ふくおかフィナンシャルグループ経営企画部財務Ｇ電話092-723-2502。',\n",
       " '以上本件に関するご照会は下記までお願いいたします。ふくおかフィナンシャルグループ経営企画部財務Ｇ電話092-723-2502。',\n",
       " '以上本件に関するご照会は下記までお願いいたします。ふくおかフィナンシャルグループ経営企画部財務Ｇ電話092-723-2502。',\n",
       " '以上本件に関するご照会は下記までお願いいたします。ふくおかフィナンシャルグループ経営企画部財務Ｇ電話092-723-2502。']"
      ]
     },
     "execution_count": 4,
     "metadata": {},
     "output_type": "execute_result"
    }
   ],
   "source": [
    "load_content(sims[\"chunk_id\"][:5])"
   ]
  },
  {
   "cell_type": "markdown",
   "id": "86acdb75-25aa-442a-aed2-7b72f44b7d9c",
   "metadata": {},
   "source": [
    "問題は何かと言うと、questionと関係ないチャンクを拾ってしまっている。今、重要度は、各ドキュメント内での各単語のtfidfの和（質問側のtfidfは考えてないので）。で、tfは、ドキュメントの長さが分母に入っているので、長い文章では、この評価は相対的に不利なはず。\n",
    "\n",
    "tfをなんで使いたいかというと、単語がたくさん出てきたら、それに関係する文章だろうから。なんだけど、ターゲットの単語が複数回でる可能性は低い。また、今、ドキュメントの長さは最大で300に制限しているから、ドキュメントの長さで正規化する意味が薄い、というか、ほとんどの文章は大体、300文字の中、一部に極端に短い文章が存在するという構造になっていると考えられるので、そういった短い文章をブーストする方向に効いていると考えられる。これは、やりたいことの逆。\n",
    "\n",
    "tfidfではなくて、ドキュメントの正規化操作を無効にしたような重要度でソートしてみる。"
   ]
  }
 ],
 "metadata": {
  "kernelspec": {
   "display_name": "Python 3 (ipykernel)",
   "language": "python",
   "name": "python3"
  },
  "language_info": {
   "codemirror_mode": {
    "name": "ipython",
    "version": 3
   },
   "file_extension": ".py",
   "mimetype": "text/x-python",
   "name": "python",
   "nbconvert_exporter": "python",
   "pygments_lexer": "ipython3",
   "version": "3.10.9"
  }
 },
 "nbformat": 4,
 "nbformat_minor": 5
}
