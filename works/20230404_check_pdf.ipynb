{
 "cells": [
  {
   "cell_type": "code",
   "execution_count": 32,
   "id": "32f9bf42-281f-42f7-9fd1-f07d49bd9fd1",
   "metadata": {
    "tags": []
   },
   "outputs": [],
   "source": [
    "import sqlite3\n",
    "import pandas as pd\n",
    "import re\n",
    "from unicodedata import normalize\n",
    "from PyPDF2 import PdfReader, PageObject\n",
    "import io"
   ]
  },
  {
   "cell_type": "code",
   "execution_count": 33,
   "id": "cda80291-e7e3-4d55-8033-9529be2fda4b",
   "metadata": {
    "tags": []
   },
   "outputs": [],
   "source": [
    "def db_con() -> sqlite3.Connection:\n",
    "    path = \"../ffgcrawl/db.sqlite\"\n",
    "    con: sqlite3.Connection = sqlite3.connect(path)\n",
    "    con.row_factory = sqlite3.Row\n",
    "    return con"
   ]
  },
  {
   "cell_type": "code",
   "execution_count": 34,
   "id": "05b2ad5f-76e5-4df7-89ad-a6f0e04f786d",
   "metadata": {
    "tags": []
   },
   "outputs": [],
   "source": [
    "def query(sql: str) -> pd.DataFrame:\n",
    "    return pd.read_sql(sql, db_con())"
   ]
  },
  {
   "cell_type": "code",
   "execution_count": 35,
   "id": "c74fd9a8-0867-4e49-a76a-2dd2a114c09a",
   "metadata": {
    "tags": []
   },
   "outputs": [],
   "source": [
    "def extract(pdf: bytes) -> str:\n",
    "    bio = io.BytesIO(pdf)\n",
    "    reader = PdfReader(bio)\n",
    "    texts = [\n",
    "        re.sub(r\"\\s+\", \"\", page.extract_text())\n",
    "        for page in reader.pages\n",
    "    ]\n",
    "    return \"\\n--\\n\".join(texts)"
   ]
  },
  {
   "cell_type": "code",
   "execution_count": 36,
   "id": "517f7cbb-76fc-40e4-93b8-e859ca308da2",
   "metadata": {
    "tags": []
   },
   "outputs": [],
   "source": [
    "pdfs = query(\"select * from pdfs\")"
   ]
  },
  {
   "cell_type": "code",
   "execution_count": 39,
   "id": "f197ac8c-a6ab-4168-9650-d047909bb3e9",
   "metadata": {
    "tags": []
   },
   "outputs": [],
   "source": [
    "import sys"
   ]
  },
  {
   "cell_type": "code",
   "execution_count": 40,
   "id": "82714293-73c5-4b09-82ca-f6e87847a351",
   "metadata": {
    "tags": []
   },
   "outputs": [
    {
     "name": "stderr",
     "output_type": "stream",
     "text": [
      "/Users/hotoku/Library/Caches/pypoetry/virtualenvs/ffg-crawl-lvPl_cJS-py3.11/lib/python3.11/site-packages/PyPDF2/_cmap.py:142: PdfReadWarning: Advanced encoding /90msp-RKSJ-H not implemented yet\n",
      "  warnings.warn(\n",
      "/Users/hotoku/Library/Caches/pypoetry/virtualenvs/ffg-crawl-lvPl_cJS-py3.11/lib/python3.11/site-packages/PyPDF2/_cmap.py:142: PdfReadWarning: Advanced encoding /90ms-RKSJ-H not implemented yet\n",
      "  warnings.warn(\n",
      "/Users/hotoku/Library/Caches/pypoetry/virtualenvs/ffg-crawl-lvPl_cJS-py3.11/lib/python3.11/site-packages/PyPDF2/_cmap.py:142: PdfReadWarning: Advanced encoding /UniJIS-UCS2-H not implemented yet\n",
      "  warnings.warn(\n",
      "28: PyCryptodome is required for AES algorithm\n",
      "50: PyCryptodome is required for AES algorithm\n",
      "51: PyCryptodome is required for AES algorithm\n",
      "52: PyCryptodome is required for AES algorithm\n",
      "57: PyCryptodome is required for AES algorithm\n",
      "58: PyCryptodome is required for AES algorithm\n"
     ]
    }
   ],
   "source": [
    "!mkdir -p pdfs\n",
    "for i, c in enumerate(pdfs.content):\n",
    "    try:\n",
    "        t = extract(c)\n",
    "    except Exception as e:\n",
    "        sys.stderr.write(f\"{i}: {e}\\n\")\n",
    "    with open(f\"pdfs/{i}.txt\", \"w\") as fp:\n",
    "        fp.write(t)"
   ]
  },
  {
   "cell_type": "code",
   "execution_count": null,
   "id": "43e1721e-41cb-4c45-913e-33ec0c11b952",
   "metadata": {},
   "outputs": [],
   "source": []
  }
 ],
 "metadata": {
  "kernelspec": {
   "display_name": "Python 3 (ipykernel)",
   "language": "python",
   "name": "python3"
  },
  "language_info": {
   "codemirror_mode": {
    "name": "ipython",
    "version": 3
   },
   "file_extension": ".py",
   "mimetype": "text/x-python",
   "name": "python",
   "nbconvert_exporter": "python",
   "pygments_lexer": "ipython3",
   "version": "3.11.2"
  }
 },
 "nbformat": 4,
 "nbformat_minor": 5
}
