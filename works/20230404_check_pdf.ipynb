{
 "cells": [
  {
   "cell_type": "code",
   "execution_count": 8,
   "id": "32f9bf42-281f-42f7-9fd1-f07d49bd9fd1",
   "metadata": {
    "tags": []
   },
   "outputs": [],
   "source": [
    "import sys\n",
    "import sqlite3\n",
    "import pandas as pd\n",
    "import re\n",
    "from unicodedata import normalize\n",
    "from PyPDF2 import PdfReader, PageObject\n",
    "import io"
   ]
  },
  {
   "cell_type": "code",
   "execution_count": 2,
   "id": "cda80291-e7e3-4d55-8033-9529be2fda4b",
   "metadata": {
    "tags": []
   },
   "outputs": [],
   "source": [
    "def db_con() -> sqlite3.Connection:\n",
    "    path = \"../ffgcrawl/db.sqlite\"\n",
    "    con: sqlite3.Connection = sqlite3.connect(path)\n",
    "    con.row_factory = sqlite3.Row\n",
    "    return con"
   ]
  },
  {
   "cell_type": "code",
   "execution_count": 3,
   "id": "05b2ad5f-76e5-4df7-89ad-a6f0e04f786d",
   "metadata": {
    "tags": []
   },
   "outputs": [],
   "source": [
    "def query(sql: str) -> pd.DataFrame:\n",
    "    return pd.read_sql(sql, db_con())"
   ]
  },
  {
   "cell_type": "code",
   "execution_count": 4,
   "id": "c74fd9a8-0867-4e49-a76a-2dd2a114c09a",
   "metadata": {
    "tags": []
   },
   "outputs": [],
   "source": [
    "def extract(pdf: bytes) -> str:\n",
    "    bio = io.BytesIO(pdf)\n",
    "    reader = PdfReader(bio)\n",
    "    texts = [\n",
    "        re.sub(r\"\\s+\", \"\", page.extract_text())\n",
    "        for page in reader.pages\n",
    "    ]\n",
    "    return \"\\n--\\n\".join(texts)"
   ]
  },
  {
   "cell_type": "code",
   "execution_count": 12,
   "id": "517f7cbb-76fc-40e4-93b8-e859ca308da2",
   "metadata": {
    "tags": []
   },
   "outputs": [],
   "source": [
    "pdfs = query(\"select * from pdfs limit 10\")"
   ]
  },
  {
   "cell_type": "code",
   "execution_count": 15,
   "id": "e4fdbf14-a101-4d84-b8dc-7bb30a4a06a2",
   "metadata": {
    "tags": []
   },
   "outputs": [
    {
     "data": {
      "text/html": [
       "<div>\n",
       "<style scoped>\n",
       "    .dataframe tbody tr th:only-of-type {\n",
       "        vertical-align: middle;\n",
       "    }\n",
       "\n",
       "    .dataframe tbody tr th {\n",
       "        vertical-align: top;\n",
       "    }\n",
       "\n",
       "    .dataframe thead th {\n",
       "        text-align: right;\n",
       "    }\n",
       "</style>\n",
       "<table border=\"1\" class=\"dataframe\">\n",
       "  <thead>\n",
       "    <tr style=\"text-align: right;\">\n",
       "      <th></th>\n",
       "      <th>url</th>\n",
       "      <th>referrer_title</th>\n",
       "      <th>content</th>\n",
       "      <th>created_at</th>\n",
       "    </tr>\n",
       "  </thead>\n",
       "  <tbody>\n",
       "    <tr>\n",
       "      <th>0</th>\n",
       "      <td>https://www.fukuoka-fg.com/news_info_pdf/2023/...</td>\n",
       "      <td>ふくおかフィナンシャルグループ</td>\n",
       "      <td>b'%PDF-1.5\\r\\n%\\xb5\\xb5\\xb5\\xb5\\r\\n1 0 obj\\r\\n...</td>\n",
       "      <td>2023-04-04T16:41:03.200108</td>\n",
       "    </tr>\n",
       "    <tr>\n",
       "      <th>1</th>\n",
       "      <td>https://www.fukuoka-fg.com/news_info_pdf/2023/...</td>\n",
       "      <td>ふくおかフィナンシャルグループ</td>\n",
       "      <td>b'%PDF-1.5\\r\\n%\\xb5\\xb5\\xb5\\xb5\\r\\n1 0 obj\\r\\n...</td>\n",
       "      <td>2023-04-04T16:41:03.282432</td>\n",
       "    </tr>\n",
       "    <tr>\n",
       "      <th>2</th>\n",
       "      <td>https://www.fukuoka-fg.com/news_info_pdf/2023/...</td>\n",
       "      <td>ふくおかフィナンシャルグループ</td>\n",
       "      <td>b'%PDF-1.5\\r\\n%\\xb5\\xb5\\xb5\\xb5\\r\\n1 0 obj\\r\\n...</td>\n",
       "      <td>2023-04-04T16:41:03.354721</td>\n",
       "    </tr>\n",
       "    <tr>\n",
       "      <th>3</th>\n",
       "      <td>https://www.fukuoka-fg.com/news_info_pdf/2023/...</td>\n",
       "      <td>ふくおかフィナンシャルグループ</td>\n",
       "      <td>b'%PDF-1.5\\r\\n%\\xb5\\xb5\\xb5\\xb5\\r\\n1 0 obj\\r\\n...</td>\n",
       "      <td>2023-04-04T16:41:03.498394</td>\n",
       "    </tr>\n",
       "    <tr>\n",
       "      <th>4</th>\n",
       "      <td>https://www.fukuoka-fg.com/news_info_pdf/2023/...</td>\n",
       "      <td>ふくおかフィナンシャルグループ</td>\n",
       "      <td>b'%PDF-1.5\\r\\n%\\xb5\\xb5\\xb5\\xb5\\r\\n1 0 obj\\r\\n...</td>\n",
       "      <td>2023-04-04T16:41:03.559065</td>\n",
       "    </tr>\n",
       "    <tr>\n",
       "      <th>5</th>\n",
       "      <td>https://www.fukuoka-fg.com/csrimage/data_csr/o...</td>\n",
       "      <td>ふくおかフィナンシャルグループ文化芸術財団 | ふくおかフィナンシャルグループ</td>\n",
       "      <td>b'%PDF-1.6\\r%\\xe2\\xe3\\xcf\\xd3\\r\\n1 0 obj\\r&lt;&lt;/M...</td>\n",
       "      <td>2023-04-04T16:41:03.887570</td>\n",
       "    </tr>\n",
       "    <tr>\n",
       "      <th>6</th>\n",
       "      <td>https://www.fukuoka-fg.com/csrimage/data_csr/N...</td>\n",
       "      <td>ふくおかフィナンシャルグループ文化芸術財団 | ふくおかフィナンシャルグループ</td>\n",
       "      <td>b'%PDF-1.4\\n%\\xe2\\xe3\\xcf\\xd3\\n986 0 obj\\n&lt;&lt;/L...</td>\n",
       "      <td>2023-04-04T16:41:04.312898</td>\n",
       "    </tr>\n",
       "    <tr>\n",
       "      <th>7</th>\n",
       "      <td>https://www.fukuoka-fg.com/files/items/11238/F...</td>\n",
       "      <td>電子公告 | ふくおかフィナンシャルグループ</td>\n",
       "      <td>b'%PDF-1.5\\r\\n%\\xb5\\xb5\\xb5\\xb5\\r\\n1 0 obj\\r\\n...</td>\n",
       "      <td>2023-04-04T16:41:05.009249</td>\n",
       "    </tr>\n",
       "    <tr>\n",
       "      <th>8</th>\n",
       "      <td>https://www.fukuoka-fg.com/files/items/11238/F...</td>\n",
       "      <td>電子公告 | ふくおかフィナンシャルグループ</td>\n",
       "      <td>b'%PDF-1.5\\r\\n%\\xb5\\xb5\\xb5\\xb5\\r\\n1 0 obj\\r\\n...</td>\n",
       "      <td>2023-04-04T16:41:05.014397</td>\n",
       "    </tr>\n",
       "    <tr>\n",
       "      <th>9</th>\n",
       "      <td>https://www.fukuoka-fg.com/files/items/11238/F...</td>\n",
       "      <td>電子公告 | ふくおかフィナンシャルグループ</td>\n",
       "      <td>b'%PDF-1.5\\r\\n%\\xb5\\xb5\\xb5\\xb5\\r\\n1 0 obj\\r\\n...</td>\n",
       "      <td>2023-04-04T16:41:05.023876</td>\n",
       "    </tr>\n",
       "  </tbody>\n",
       "</table>\n",
       "</div>"
      ],
      "text/plain": [
       "                                                 url   \n",
       "0  https://www.fukuoka-fg.com/news_info_pdf/2023/...  \\\n",
       "1  https://www.fukuoka-fg.com/news_info_pdf/2023/...   \n",
       "2  https://www.fukuoka-fg.com/news_info_pdf/2023/...   \n",
       "3  https://www.fukuoka-fg.com/news_info_pdf/2023/...   \n",
       "4  https://www.fukuoka-fg.com/news_info_pdf/2023/...   \n",
       "5  https://www.fukuoka-fg.com/csrimage/data_csr/o...   \n",
       "6  https://www.fukuoka-fg.com/csrimage/data_csr/N...   \n",
       "7  https://www.fukuoka-fg.com/files/items/11238/F...   \n",
       "8  https://www.fukuoka-fg.com/files/items/11238/F...   \n",
       "9  https://www.fukuoka-fg.com/files/items/11238/F...   \n",
       "\n",
       "                            referrer_title   \n",
       "0                          ふくおかフィナンシャルグループ  \\\n",
       "1                          ふくおかフィナンシャルグループ   \n",
       "2                          ふくおかフィナンシャルグループ   \n",
       "3                          ふくおかフィナンシャルグループ   \n",
       "4                          ふくおかフィナンシャルグループ   \n",
       "5  ふくおかフィナンシャルグループ文化芸術財団 | ふくおかフィナンシャルグループ   \n",
       "6  ふくおかフィナンシャルグループ文化芸術財団 | ふくおかフィナンシャルグループ   \n",
       "7                   電子公告 | ふくおかフィナンシャルグループ   \n",
       "8                   電子公告 | ふくおかフィナンシャルグループ   \n",
       "9                   電子公告 | ふくおかフィナンシャルグループ   \n",
       "\n",
       "                                             content   \n",
       "0  b'%PDF-1.5\\r\\n%\\xb5\\xb5\\xb5\\xb5\\r\\n1 0 obj\\r\\n...  \\\n",
       "1  b'%PDF-1.5\\r\\n%\\xb5\\xb5\\xb5\\xb5\\r\\n1 0 obj\\r\\n...   \n",
       "2  b'%PDF-1.5\\r\\n%\\xb5\\xb5\\xb5\\xb5\\r\\n1 0 obj\\r\\n...   \n",
       "3  b'%PDF-1.5\\r\\n%\\xb5\\xb5\\xb5\\xb5\\r\\n1 0 obj\\r\\n...   \n",
       "4  b'%PDF-1.5\\r\\n%\\xb5\\xb5\\xb5\\xb5\\r\\n1 0 obj\\r\\n...   \n",
       "5  b'%PDF-1.6\\r%\\xe2\\xe3\\xcf\\xd3\\r\\n1 0 obj\\r<</M...   \n",
       "6  b'%PDF-1.4\\n%\\xe2\\xe3\\xcf\\xd3\\n986 0 obj\\n<</L...   \n",
       "7  b'%PDF-1.5\\r\\n%\\xb5\\xb5\\xb5\\xb5\\r\\n1 0 obj\\r\\n...   \n",
       "8  b'%PDF-1.5\\r\\n%\\xb5\\xb5\\xb5\\xb5\\r\\n1 0 obj\\r\\n...   \n",
       "9  b'%PDF-1.5\\r\\n%\\xb5\\xb5\\xb5\\xb5\\r\\n1 0 obj\\r\\n...   \n",
       "\n",
       "                   created_at  \n",
       "0  2023-04-04T16:41:03.200108  \n",
       "1  2023-04-04T16:41:03.282432  \n",
       "2  2023-04-04T16:41:03.354721  \n",
       "3  2023-04-04T16:41:03.498394  \n",
       "4  2023-04-04T16:41:03.559065  \n",
       "5  2023-04-04T16:41:03.887570  \n",
       "6  2023-04-04T16:41:04.312898  \n",
       "7  2023-04-04T16:41:05.009249  \n",
       "8  2023-04-04T16:41:05.014397  \n",
       "9  2023-04-04T16:41:05.023876  "
      ]
     },
     "execution_count": 15,
     "metadata": {},
     "output_type": "execute_result"
    }
   ],
   "source": [
    "pdfs"
   ]
  },
  {
   "cell_type": "code",
   "execution_count": 14,
   "id": "9cc3d64c-5da0-4f6c-9318-26955df9e331",
   "metadata": {
    "tags": []
   },
   "outputs": [
    {
     "data": {
      "text/plain": [
       "'NewsRelease〒810-8693福岡市中央区大手門1-8-3https://www.fukuoka-fg.com/「台湾ビジネスセミナーin熊本～TSMC進出で熊本・九州はどう変わるのか～」の開催報告について2023年3月10日株式会社ふくおかフィナンシャルグループ（取締役社長五島久）は、中國信託フィナンシャルホールディング（董事長顔文隆）と共同で、3月9日に「台湾ビジネスセミナーin熊本」を熊本城ホール（熊本市）にて開催しました。本セミナーでは、会場とオンラインを合わせて約1,400名の方々にご参加・ご視聴をいただき、盛況のうちに終了しました。第一部では、日本と台湾の交流に永年ご尽力されている元台湾駐日代表の馮（ヒョウ）氏から台湾と日本との関わりや台湾の生活習慣等に加え、台湾経済が発展していく過程で、どのように半導体産業が成長してきたかについてご講演いただきました。また、第二部のパネルディスカッションでは、各分野の有識者５名の方々より、世界最大の半導体受託製造企業であるTSMCの熊本進出を受けて、それぞれの立場から現在の取り組み状況や解決すべき課題、熊本・九州が今後果たすべき役割や10年後の姿などについて、幅広い視点で議論いただきました。ふくおかフィナンシャルグループは、今後とも、地域経済の活性化と発展に貢献してまいります。【セミナーの様子】講演を行う、中國信託商業銀行最高顧問馮（ヒョウ）氏パネルディスカッション登壇者（左から）岡野氏、秋吉氏、青柳氏、三輪氏、松尾氏セミナー会場あいさつを行う、中國信託フィナンシャルホールディング日本クロスボーダー事業執行役蕭（シャオ）氏\\n--\\n【セミナー登壇者一覧】講演馮寄台（ヒョウキタイ）氏中國信託商業銀行最高顧問（元台湾駐日代表）•台湾高雄市生まれ。1973年、ノースダコタ州立大学（国際関係学修士）修了後、台湾外交部入り。87年、ハーバード大学公共行政学修士を取得。•2008年8月から12年2月まで台湾の駐日代表。数々の功績が認められ、2018年に日本政府から「旭日重光章」を授与。現在も多くの経済団体の要職を務め、日本と台湾のビジネス交流に尽力。ファシリテーター岡野秀之氏九州経済調査協会事業開発部長•1973年横浜市生まれ。九州大学大学院比較社会文化研究科修了。1997年財団法人九州経済調査協会入社。調査研究部研究主査、主任研究員、総務企画部次長、調査研究部長などを経て現職。•専門は、地域経済論、産業配置論、地域産業政策論。『地域産業のイノベーションシステム』（共著、学芸出版社、2019年）、『シリコンアイランド九州の革新者たち』（共編著、西日本新聞社、2009年）、『半導体クラスターのイノベーション〜日中韓台の競争と連携』（共編著、中央経済社、2008年）、『半導体クラスターへのシナリオ』（共著、西日本新聞社、2001年）などがある。パネリスト秋吉英治氏九州経済産業局地域経済部次長•1987年、通商産業省（福岡通商産業局）入省。産業部中小企業金融室長、地域経済部情報政策課長、同新産業戦略課長、総務企画部企画課長、地域経済部地域経済課長、総務企画部総務課長などを経て、2022年4月より現職（産業部次長兼任）。青柳昌宏氏熊本大学半導体研究教育センターセンター長•1991年、名古屋工業大学博士取得。産業技術総合研究所勤務などを経て2022年4月より現職。大学院先端科学研究部の卓越教授を兼務。•2023年度から開始する内閣府「地方大学・地域産業創生交付金事業」および2024年度に開設を予定する半導体人材育成のための工学部「半導体デバイス工学課程（仮称）」の準備活動に従事。三輪孝之氏熊本県商工労働部長•1987年、熊本大学法学部卒業後、熊本県庁へ入庁。商工観光労働部新産業振興局長、商工労働部総括審議員兼政策審議監などを経て、2021年9月より現職。•企業誘致、工業団地やインフラ整備など熊本県の産業発展にかかる各施策の旗振り役。松尾直氏台日産業連携推進オフィス（TJPO）顧問•TDK㈱（電気機器製造メーカー）の台湾現地法人の董事長（責任者）として15年間台湾に駐在。台湾着任当時、空洞化により工場閉鎖の危機に直面していた台湾工場の立て直しを主導し、台湾独自の新規事業開発により会社再生を果たした。•現在は、台日産業連携推進オフィス（日本と台湾のビジネス交流促進を目的に設立された台湾経済部の外郭団体）の東京事務所に勤務。以上《本件に関するお問合せ先》㈱ふくおかフィナンシャルグループ営業統括部海外戦略企画グループ（福岡銀行グローバルソリューション部）担当：才田、黒田TEL092–723–2515'"
      ]
     },
     "execution_count": 14,
     "metadata": {},
     "output_type": "execute_result"
    }
   ],
   "source": [
    "extract(pdfs.content[0])"
   ]
  },
  {
   "cell_type": "code",
   "execution_count": 9,
   "id": "82714293-73c5-4b09-82ca-f6e87847a351",
   "metadata": {
    "tags": []
   },
   "outputs": [
    {
     "name": "stderr",
     "output_type": "stream",
     "text": [
      "/Users/hotoku/Library/Caches/pypoetry/virtualenvs/works-nrQr0hCF-py3.11/lib/python3.11/site-packages/PyPDF2/_cmap.py:142: PdfReadWarning: Advanced encoding /90msp-RKSJ-H not implemented yet\n",
      "  warnings.warn(\n",
      "/Users/hotoku/Library/Caches/pypoetry/virtualenvs/works-nrQr0hCF-py3.11/lib/python3.11/site-packages/PyPDF2/_cmap.py:142: PdfReadWarning: Advanced encoding /90ms-RKSJ-H not implemented yet\n",
      "  warnings.warn(\n",
      "/Users/hotoku/Library/Caches/pypoetry/virtualenvs/works-nrQr0hCF-py3.11/lib/python3.11/site-packages/PyPDF2/_cmap.py:142: PdfReadWarning: Advanced encoding /UniJIS-UCS2-H not implemented yet\n",
      "  warnings.warn(\n",
      "25: PyCryptodome is required for AES algorithm\n",
      "50: PyCryptodome is required for AES algorithm\n",
      "51: PyCryptodome is required for AES algorithm\n",
      "52: PyCryptodome is required for AES algorithm\n",
      "57: PyCryptodome is required for AES algorithm\n",
      "58: PyCryptodome is required for AES algorithm\n"
     ]
    }
   ],
   "source": [
    "!mkdir -p pdfs\n",
    "for i, c in enumerate(pdfs.content):\n",
    "    try:\n",
    "        t = extract(c)\n",
    "    except Exception as e:\n",
    "        sys.stderr.write(f\"{i}: {e}\\n\")\n",
    "    with open(f\"pdfs/{i}.txt\", \"w\") as fp:\n",
    "        fp.write(t)"
   ]
  }
 ],
 "metadata": {
  "kernelspec": {
   "display_name": "Python 3 (ipykernel)",
   "language": "python",
   "name": "python3"
  },
  "language_info": {
   "codemirror_mode": {
    "name": "ipython",
    "version": 3
   },
   "file_extension": ".py",
   "mimetype": "text/x-python",
   "name": "python",
   "nbconvert_exporter": "python",
   "pygments_lexer": "ipython3",
   "version": "3.11.2"
  }
 },
 "nbformat": 4,
 "nbformat_minor": 5
}
